{
 "cells": [
  {
   "cell_type": "code",
   "execution_count": 2,
   "metadata": {},
   "outputs": [
    {
     "name": "stdout",
     "output_type": "stream",
     "text": [
      "QRCODE\n",
      "upi://pay?pa=9262260376@yapl&pn=Shubham  Dey\n"
     ]
    }
   ],
   "source": [
    "import cv2\n",
    "from pyzbar.pyzbar import decode\n",
    "import time\n",
    "\n",
    "cam = cv2.VideoCapture(0)\n",
    "cam.set(3, 640)  # Width\n",
    "cam.set(4, 480)  # Height\n",
    "\n",
    "camera = True\n",
    "while camera:\n",
    "    success, frame = cam.read()\n",
    "\n",
    "    for barcode in decode(frame):\n",
    "        print(barcode.type)\n",
    "        print(barcode.data.decode('utf-8'))\n",
    "        time.sleep(2)\n",
    "\n",
    "    cv2.imshow(\"Scanner\", frame)\n",
    "    if cv2.waitKey(1) & 0xFF == 27:  # Press ESC to exit\n",
    "        break\n",
    "\n",
    "cam.release()\n",
    "cv2.destroyAllWindows()\n"
   ]
  }
 ],
 "metadata": {
  "kernelspec": {
   "display_name": "base",
   "language": "python",
   "name": "python3"
  },
  "language_info": {
   "codemirror_mode": {
    "name": "ipython",
    "version": 3
   },
   "file_extension": ".py",
   "mimetype": "text/x-python",
   "name": "python",
   "nbconvert_exporter": "python",
   "pygments_lexer": "ipython3",
   "version": "3.11.5"
  }
 },
 "nbformat": 4,
 "nbformat_minor": 2
}
