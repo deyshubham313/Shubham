{
 "cells": [
  {
   "cell_type": "code",
   "execution_count": 2,
   "id": "7119062e",
   "metadata": {},
   "outputs": [],
   "source": [
    "import streamlit as st\n",
    "\n",
    "# Dummy data for reports if not already defined\n",
    "if 'reports' not in locals():\n",
    "    reports = [\n",
    "        {\"lat\": 25.5, \"lon\": 80.5, \"location\": \"Village A\", \"crisis_type\": \"Pest\", \"symptom\": \"Locusts on wheat\"},\n",
    "        {\"lat\": 26.0, \"lon\": 81.0, \"location\": \"Village B\", \"crisis_type\": \"Flood\", \"symptom\": \"Waterlogged fields\"},\n",
    "    ]"
   ]
  },
  {
   "cell_type": "code",
   "execution_count": 3,
   "id": "da74e05d",
   "metadata": {},
   "outputs": [
    {
     "name": "stderr",
     "output_type": "stream",
     "text": [
      "2025-06-29 13:10:58.483 WARNING streamlit.runtime.scriptrunner_utils.script_run_context: Thread 'MainThread': missing ScriptRunContext! This warning can be ignored when running in bare mode.\n",
      "2025-06-29 13:10:58.576 \n",
      "  \u001b[33m\u001b[1mWarning:\u001b[0m to view this Streamlit app on a browser, run it with the following\n",
      "  command:\n",
      "\n",
      "    streamlit run c:\\Users\\deysh\\anaconda3\\Lib\\site-packages\\ipykernel_launcher.py [ARGUMENTS]\n",
      "2025-06-29 13:10:58.577 Thread 'MainThread': missing ScriptRunContext! This warning can be ignored when running in bare mode.\n",
      "2025-06-29 13:10:58.578 Thread 'MainThread': missing ScriptRunContext! This warning can be ignored when running in bare mode.\n",
      "2025-06-29 13:10:58.600 Thread 'MainThread': missing ScriptRunContext! This warning can be ignored when running in bare mode.\n",
      "2025-06-29 13:10:58.602 Thread 'MainThread': missing ScriptRunContext! This warning can be ignored when running in bare mode.\n",
      "2025-06-29 13:10:58.603 Thread 'MainThread': missing ScriptRunContext! This warning can be ignored when running in bare mode.\n",
      "2025-06-29 13:10:58.603 Thread 'MainThread': missing ScriptRunContext! This warning can be ignored when running in bare mode.\n",
      "2025-06-29 13:10:58.604 Thread 'MainThread': missing ScriptRunContext! This warning can be ignored when running in bare mode.\n"
     ]
    },
    {
     "data": {
      "text/plain": [
       "{'last_clicked': None,\n",
       " 'last_object_clicked': None,\n",
       " 'last_object_clicked_tooltip': None,\n",
       " 'last_object_clicked_popup': None,\n",
       " 'all_drawings': None,\n",
       " 'last_active_drawing': None,\n",
       " 'bounds': {'_southWest': {'lat': 25.5, 'lng': 80.5},\n",
       "  '_northEast': {'lat': 26.0, 'lng': 81.0}},\n",
       " 'zoom': 5,\n",
       " 'last_circle_radius': None,\n",
       " 'last_circle_polygon': None,\n",
       " 'selected_layers': None}"
      ]
     },
     "execution_count": 3,
     "metadata": {},
     "output_type": "execute_result"
    }
   ],
   "source": [
    "# Cell: Crisis Cluster Map\n",
    "import folium\n",
    "from streamlit_folium import st_folium\n",
    "\n",
    "st.header(\"🗺️ Crisis Cluster Map\")\n",
    "\n",
    "# Create map centered on average location\n",
    "if reports:\n",
    "    avg_lat = sum([r['lat'] for r in reports]) / len(reports)\n",
    "    avg_lon = sum([r['lon'] for r in reports]) / len(reports)\n",
    "else:\n",
    "    avg_lat, avg_lon = 25.0, 80.0\n",
    "\n",
    "m = folium.Map(location=[avg_lat, avg_lon], zoom_start=5)\n",
    "for r in reports:\n",
    "    folium.Marker(\n",
    "        [r['lat'], r['lon']],\n",
    "        popup=f\"{r['location']}: {r['crisis_type']}\",\n",
    "        tooltip=r['symptom']\n",
    "    ).add_to(m)\n",
    "\n",
    "st_folium(m, width=700, height=400)"
   ]
  },
  {
   "cell_type": "code",
   "execution_count": 4,
   "id": "848a5d1e",
   "metadata": {},
   "outputs": [
    {
     "name": "stderr",
     "output_type": "stream",
     "text": [
      "2025-06-29 13:11:40.271 Thread 'MainThread': missing ScriptRunContext! This warning can be ignored when running in bare mode.\n",
      "2025-06-29 13:11:40.273 Thread 'MainThread': missing ScriptRunContext! This warning can be ignored when running in bare mode.\n",
      "2025-06-29 13:11:40.273 Thread 'MainThread': missing ScriptRunContext! This warning can be ignored when running in bare mode.\n",
      "2025-06-29 13:11:40.275 Thread 'MainThread': missing ScriptRunContext! This warning can be ignored when running in bare mode.\n",
      "2025-06-29 13:11:40.275 Thread 'MainThread': missing ScriptRunContext! This warning can be ignored when running in bare mode.\n",
      "2025-06-29 13:11:40.276 Thread 'MainThread': missing ScriptRunContext! This warning can be ignored when running in bare mode.\n",
      "2025-06-29 13:11:40.277 Thread 'MainThread': missing ScriptRunContext! This warning can be ignored when running in bare mode.\n",
      "2025-06-29 13:11:40.278 Session state does not function when running a script without `streamlit run`\n",
      "2025-06-29 13:11:40.279 Thread 'MainThread': missing ScriptRunContext! This warning can be ignored when running in bare mode.\n",
      "2025-06-29 13:11:40.280 Thread 'MainThread': missing ScriptRunContext! This warning can be ignored when running in bare mode.\n",
      "2025-06-29 13:11:40.282 Thread 'MainThread': missing ScriptRunContext! This warning can be ignored when running in bare mode.\n",
      "2025-06-29 13:11:40.283 Thread 'MainThread': missing ScriptRunContext! This warning can be ignored when running in bare mode.\n",
      "2025-06-29 13:11:40.284 Thread 'MainThread': missing ScriptRunContext! This warning can be ignored when running in bare mode.\n",
      "2025-06-29 13:11:40.285 Thread 'MainThread': missing ScriptRunContext! This warning can be ignored when running in bare mode.\n",
      "2025-06-29 13:11:40.286 Thread 'MainThread': missing ScriptRunContext! This warning can be ignored when running in bare mode.\n",
      "2025-06-29 13:11:40.288 Thread 'MainThread': missing ScriptRunContext! This warning can be ignored when running in bare mode.\n",
      "2025-06-29 13:11:40.290 Thread 'MainThread': missing ScriptRunContext! This warning can be ignored when running in bare mode.\n",
      "2025-06-29 13:11:40.291 Thread 'MainThread': missing ScriptRunContext! This warning can be ignored when running in bare mode.\n",
      "2025-06-29 13:11:40.292 Thread 'MainThread': missing ScriptRunContext! This warning can be ignored when running in bare mode.\n",
      "2025-06-29 13:11:40.293 Thread 'MainThread': missing ScriptRunContext! This warning can be ignored when running in bare mode.\n",
      "2025-06-29 13:11:40.293 Thread 'MainThread': missing ScriptRunContext! This warning can be ignored when running in bare mode.\n",
      "2025-06-29 13:11:40.293 Thread 'MainThread': missing ScriptRunContext! This warning can be ignored when running in bare mode.\n",
      "2025-06-29 13:11:40.293 Thread 'MainThread': missing ScriptRunContext! This warning can be ignored when running in bare mode.\n",
      "2025-06-29 13:11:40.293 Thread 'MainThread': missing ScriptRunContext! This warning can be ignored when running in bare mode.\n",
      "2025-06-29 13:11:40.293 Thread 'MainThread': missing ScriptRunContext! This warning can be ignored when running in bare mode.\n",
      "2025-06-29 13:11:40.293 Thread 'MainThread': missing ScriptRunContext! This warning can be ignored when running in bare mode.\n",
      "2025-06-29 13:11:40.293 Thread 'MainThread': missing ScriptRunContext! This warning can be ignored when running in bare mode.\n",
      "2025-06-29 13:11:40.293 Thread 'MainThread': missing ScriptRunContext! This warning can be ignored when running in bare mode.\n",
      "2025-06-29 13:11:40.293 Thread 'MainThread': missing ScriptRunContext! This warning can be ignored when running in bare mode.\n",
      "2025-06-29 13:11:40.301 Thread 'MainThread': missing ScriptRunContext! This warning can be ignored when running in bare mode.\n",
      "2025-06-29 13:11:40.301 Thread 'MainThread': missing ScriptRunContext! This warning can be ignored when running in bare mode.\n",
      "2025-06-29 13:11:40.302 Thread 'MainThread': missing ScriptRunContext! This warning can be ignored when running in bare mode.\n",
      "2025-06-29 13:11:40.303 Thread 'MainThread': missing ScriptRunContext! This warning can be ignored when running in bare mode.\n"
     ]
    }
   ],
   "source": [
    "# Cell: Farmer Chat (Demo: In-memory, not persistent)\n",
    "st.header(\"💬 Farmer Chat Room\")\n",
    "\n",
    "# Select crisis type to join chat\n",
    "crisis_types = list(set([r['crisis_type'] for r in reports]))\n",
    "selected_crisis = st.selectbox(\"Join chat for crisis type:\", crisis_types if crisis_types else [\"No crises yet\"])\n",
    "\n",
    "if 'chat_history' not in st.session_state:\n",
    "    st.session_state['chat_history'] = {}\n",
    "\n",
    "if selected_crisis not in st.session_state['chat_history']:\n",
    "    st.session_state['chat_history'][selected_crisis] = []\n",
    "\n",
    "chat_input = st.text_input(\"Type your message (visible to others with this crisis):\")\n",
    "if st.button(\"Send Message\"):\n",
    "    if chat_input:\n",
    "        st.session_state['chat_history'][selected_crisis].append(chat_input)\n",
    "\n",
    "st.write(\"**Chat History:**\")\n",
    "for msg in st.session_state['chat_history'][selected_crisis]:\n",
    "    st.markdown(f\"- {msg}\")"
   ]
  },
  {
   "cell_type": "code",
   "execution_count": 5,
   "id": "a111f026",
   "metadata": {},
   "outputs": [],
   "source": [
    "# Cell: SMS Alerts (Twilio)\n",
    "from twilio.rest import Client\n",
    "\n",
    "# Twilio credentials (set your own)\n",
    "TWILIO_SID = \"YOUR_TWILIO_SID\"\n",
    "TWILIO_TOKEN = \"YOUR_TWILIO_TOKEN\"\n",
    "TWILIO_FROM = \"+1234567890\"  # Your Twilio number\n",
    "\n",
    "def send_sms_alert(to_number, message):\n",
    "    try:\n",
    "        client = Client(TWILIO_SID, TWILIO_TOKEN)\n",
    "        client.messages.create(\n",
    "            body=message,\n",
    "            from_=TWILIO_FROM,\n",
    "            to=to_number\n",
    "        )\n",
    "        st.success(f\"SMS sent to {to_number}\")\n",
    "    except Exception as e:\n",
    "        st.error(f\"SMS failed: {e}\")\n",
    "\n",
    "# Example usage (uncomment to use)\n",
    "# send_sms_alert(\"+919999999999\", \"New pest outbreak detected in your area. Check AgriSOS for details.\")"
   ]
  },
  {
   "cell_type": "code",
   "execution_count": 6,
   "id": "90512811",
   "metadata": {},
   "outputs": [
    {
     "name": "stderr",
     "output_type": "stream",
     "text": [
      "2025-06-29 13:12:43.256 Thread 'MainThread': missing ScriptRunContext! This warning can be ignored when running in bare mode.\n",
      "2025-06-29 13:12:43.256 Thread 'MainThread': missing ScriptRunContext! This warning can be ignored when running in bare mode.\n",
      "2025-06-29 13:12:43.258 Thread 'MainThread': missing ScriptRunContext! This warning can be ignored when running in bare mode.\n",
      "2025-06-29 13:12:43.258 Thread 'MainThread': missing ScriptRunContext! This warning can be ignored when running in bare mode.\n",
      "2025-06-29 13:12:43.258 Thread 'MainThread': missing ScriptRunContext! This warning can be ignored when running in bare mode.\n",
      "2025-06-29 13:12:43.261 Thread 'MainThread': missing ScriptRunContext! This warning can be ignored when running in bare mode.\n",
      "2025-06-29 13:12:43.261 Thread 'MainThread': missing ScriptRunContext! This warning can be ignored when running in bare mode.\n",
      "2025-06-29 13:12:43.261 Thread 'MainThread': missing ScriptRunContext! This warning can be ignored when running in bare mode.\n",
      "2025-06-29 13:12:43.261 Thread 'MainThread': missing ScriptRunContext! This warning can be ignored when running in bare mode.\n"
     ]
    }
   ],
   "source": [
    "# Cell: Export Anonymized Data\n",
    "st.header(\"📤 Export Anonymized Crisis Data\")\n",
    "\n",
    "if st.button(\"Download CSV for Authorities\"):\n",
    "    import pandas as pd\n",
    "    df = pd.DataFrame([{\n",
    "        \"date\": r[\"date\"],\n",
    "        \"location\": r[\"location\"],\n",
    "        \"lat\": r[\"lat\"],\n",
    "        \"lon\": r[\"lon\"],\n",
    "        \"crisis_type\": r[\"crisis_type\"]\n",
    "    } for r in reports])\n",
    "    csv = df.to_csv(index=False)\n",
    "    st.download_button(\"Download CSV\", csv, \"crisis_reports.csv\", \"text/csv\")"
   ]
  }
 ],
 "metadata": {
  "kernelspec": {
   "display_name": "base",
   "language": "python",
   "name": "python3"
  },
  "language_info": {
   "codemirror_mode": {
    "name": "ipython",
    "version": 3
   },
   "file_extension": ".py",
   "mimetype": "text/x-python",
   "name": "python",
   "nbconvert_exporter": "python",
   "pygments_lexer": "ipython3",
   "version": "3.11.5"
  }
 },
 "nbformat": 4,
 "nbformat_minor": 5
}
